{
 "cells": [
  {
   "cell_type": "code",
   "execution_count": 1,
   "id": "a7aad771",
   "metadata": {},
   "outputs": [],
   "source": [
    "import pandas as pd\n",
    "import matplotlib.pyplot as plt\n",
    "from splinter import Browser\n",
    "from sqlalchemy import create_engine\n",
    "from bs4 import BeautifulSoup as soup\n",
    "from webdriver_manager.chrome import ChromeDriverManager"
   ]
  },
  {
   "cell_type": "code",
   "execution_count": 2,
   "id": "7b7b728b",
   "metadata": {},
   "outputs": [],
   "source": [
    "executable_path = {'executable_path': ChromeDriverManager().install()}\n",
    "browser = Browser('chrome', **executable_path, headless=False)"
   ]
  },
  {
   "cell_type": "code",
   "execution_count": 3,
   "id": "0347a1d9",
   "metadata": {},
   "outputs": [],
   "source": [
    "platforms = [\"ps5\", \"xbox-series-xs\", \"ps4\", \"xboxone\", \"pc\"]"
   ]
  },
  {
   "cell_type": "code",
   "execution_count": 16,
   "id": "66e80e62",
   "metadata": {},
   "outputs": [],
   "source": [
    "import pandas as pd\n",
    "from splinter import Browser\n",
    "from webdriver_manager.chrome import ChromeDriverManager\n",
    "from bs4 import BeautifulSoup as soup\n",
    "import json\n",
    "\n",
    "# Set up the browser\n",
    "executable_path = {'executable_path': ChromeDriverManager().install()}\n",
    "browser = Browser('chrome', **executable_path, headless=False)\n",
    "\n",
    "platforms = [\"ps5\", \"xbox-series-xs\", \"ps4\", \"xboxone\", \"pc\"]\n",
    "\n",
    "# Create a list to store the DataFrame objects\n",
    "dataframes = []\n",
    "\n",
    "for platform in platforms:\n",
    "    url = f\"https://proclubs.ea.com/api/fifa/clubRankLeaderboard?platform={platform}\"\n",
    "    browser.visit(url)\n",
    "    site = soup(browser.html, \"html.parser\")\n",
    "\n",
    "    # Find the <pre> tag containing the JSON data\n",
    "    pre_tag = site.find('pre')\n",
    "    \n",
    "    if pre_tag:\n",
    "        # Extract the JSON data from the <pre> tag\n",
    "        json_data = pre_tag.text\n",
    "        \n",
    "        # Convert JSON to a Python dictionary\n",
    "        json_dict = json.loads(json_data)\n",
    "        \n",
    "        # Create a DataFrame from the dictionary\n",
    "        df = pd.DataFrame(json_dict)\n",
    "        \n",
    "        # Append the DataFrame to the list\n",
    "        dataframes.append(df)\n",
    "\n",
    "# Concatenate all DataFrames in the list into a single DataFrame\n",
    "final_df = pd.concat(dataframes, ignore_index=True)"
   ]
  },
  {
   "cell_type": "code",
   "execution_count": 20,
   "id": "e096267a",
   "metadata": {},
   "outputs": [
    {
     "data": {
      "text/plain": [
       "468"
      ]
     },
     "execution_count": 20,
     "metadata": {},
     "output_type": "execute_result"
    }
   ],
   "source": [
    "pd.set_option('display.max_rows', None)\n",
    "len(final_df)\n"
   ]
  },
  {
   "cell_type": "code",
   "execution_count": null,
   "id": "3a0c3147",
   "metadata": {},
   "outputs": [],
   "source": []
  }
 ],
 "metadata": {
  "kernelspec": {
   "display_name": "PythonData",
   "language": "python",
   "name": "pythondata"
  },
  "language_info": {
   "codemirror_mode": {
    "name": "ipython",
    "version": 3
   },
   "file_extension": ".py",
   "mimetype": "text/x-python",
   "name": "python",
   "nbconvert_exporter": "python",
   "pygments_lexer": "ipython3",
   "version": "3.7.7"
  }
 },
 "nbformat": 4,
 "nbformat_minor": 5
}
